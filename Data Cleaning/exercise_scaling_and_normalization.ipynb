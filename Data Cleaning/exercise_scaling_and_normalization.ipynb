{
  "cells": [
    {
      "cell_type": "markdown",
      "id": "abee82ed",
      "metadata": {
        "papermill": {
          "duration": 0.00763,
          "end_time": "2022-06-22T16:13:23.846978",
          "exception": false,
          "start_time": "2022-06-22T16:13:23.839348",
          "status": "completed"
        },
        "tags": [],
        "id": "abee82ed"
      },
      "source": [
        "**This notebook is an exercise in the [Data Cleaning](https://www.kaggle.com/learn/data-cleaning) course.  You can reference the tutorial at [this link](https://www.kaggle.com/alexisbcook/scaling-and-normalization).**\n",
        "\n",
        "---\n"
      ]
    },
    {
      "cell_type": "markdown",
      "id": "23cc4f18",
      "metadata": {
        "papermill": {
          "duration": 0.00575,
          "end_time": "2022-06-22T16:13:23.859003",
          "exception": false,
          "start_time": "2022-06-22T16:13:23.853253",
          "status": "completed"
        },
        "tags": [],
        "id": "23cc4f18"
      },
      "source": [
        "In this exercise, you'll apply what you learned in the **Scaling and normalization** tutorial."
      ]
    },
    {
      "cell_type": "markdown",
      "id": "91c79074",
      "metadata": {
        "papermill": {
          "duration": 0.005601,
          "end_time": "2022-06-22T16:13:27.513742",
          "exception": false,
          "start_time": "2022-06-22T16:13:27.508141",
          "status": "completed"
        },
        "tags": [],
        "id": "91c79074"
      },
      "source": [
        "# Get our environment set up\n",
        "\n",
        "To practice scaling and normalization, we're going to use a [dataset of Kickstarter campaigns](https://www.kaggle.com/kemical/kickstarter-projects). (Kickstarter is a website where people can ask people to invest in various projects and concept products.)"
      ]
    },
    {
      "cell_type": "code",
      "source": [
        "from google.colab import drive\n",
        "drive.mount('/content/mydrive/')"
      ],
      "metadata": {
        "colab": {
          "base_uri": "https://localhost:8080/"
        },
        "id": "s5yn2rf-2uc0",
        "outputId": "3ba16964-f121-4027-945d-3532fd911020"
      },
      "id": "s5yn2rf-2uc0",
      "execution_count": 2,
      "outputs": [
        {
          "output_type": "stream",
          "name": "stdout",
          "text": [
            "Drive already mounted at /content/mydrive/; to attempt to forcibly remount, call drive.mount(\"/content/mydrive/\", force_remount=True).\n"
          ]
        }
      ]
    },
    {
      "cell_type": "code",
      "execution_count": 13,
      "id": "57e3a4b8",
      "metadata": {
        "execution": {
          "iopub.execute_input": "2022-06-22T16:13:27.527241Z",
          "iopub.status.busy": "2022-06-22T16:13:27.526595Z",
          "iopub.status.idle": "2022-06-22T16:13:29.040950Z",
          "shell.execute_reply": "2022-06-22T16:13:29.040086Z"
        },
        "papermill": {
          "duration": 1.524075,
          "end_time": "2022-06-22T16:13:29.043445",
          "exception": false,
          "start_time": "2022-06-22T16:13:27.519370",
          "status": "completed"
        },
        "tags": [],
        "id": "57e3a4b8"
      },
      "outputs": [],
      "source": [
        "# modules we'll use\n",
        "import pandas as pd\n",
        "import numpy as np\n",
        "\n",
        "# for Box-Cox Transformation\n",
        "from scipy import stats\n",
        "\n",
        "# for min_max scaling\n",
        "from mlxtend.preprocessing import minmax_scaling\n",
        "\n",
        "# plotting modules\n",
        "import seaborn as sns\n",
        "import matplotlib.pyplot as plt\n",
        "\n",
        "# read in all our data\n",
        "kickstarters_2017 = pd.read_csv(\"/content/mydrive/MyDrive/Colab Notebooks/data/ks-projects-201801.csv\")\n",
        "\n",
        "# set seed for reproducibility\n",
        "np.random.seed(0)"
      ]
    },
    {
      "cell_type": "markdown",
      "id": "5ca63af7",
      "metadata": {
        "papermill": {
          "duration": 0.005535,
          "end_time": "2022-06-22T16:13:29.055215",
          "exception": false,
          "start_time": "2022-06-22T16:13:29.049680",
          "status": "completed"
        },
        "tags": [],
        "id": "5ca63af7"
      },
      "source": [
        "Let's start by scaling the goals of each campaign, which is how much money they were asking for.  After scaling, all values lie between 0 and 1."
      ]
    },
    {
      "cell_type": "code",
      "execution_count": 4,
      "id": "9cbc6942",
      "metadata": {
        "execution": {
          "iopub.execute_input": "2022-06-22T16:13:29.068988Z",
          "iopub.status.busy": "2022-06-22T16:13:29.068297Z",
          "iopub.status.idle": "2022-06-22T16:13:29.104570Z",
          "shell.execute_reply": "2022-06-22T16:13:29.103603Z"
        },
        "papermill": {
          "duration": 0.045904,
          "end_time": "2022-06-22T16:13:29.107085",
          "exception": false,
          "start_time": "2022-06-22T16:13:29.061181",
          "status": "completed"
        },
        "tags": [],
        "colab": {
          "base_uri": "https://localhost:8080/"
        },
        "id": "9cbc6942",
        "outputId": "16598c0b-7430-4e9c-c0b7-e7e60548904e"
      },
      "outputs": [
        {
          "output_type": "stream",
          "name": "stdout",
          "text": [
            "Original data\n",
            "Preview:\n",
            "    usd_goal_real\n",
            "0        1533.95\n",
            "1       30000.00\n",
            "2       45000.00\n",
            "3        5000.00\n",
            "4       19500.00\n",
            "Minimum value: 0.01 \n",
            "Maximum value: 166361390.71\n",
            "______________________________\n",
            "\n",
            "Scaled data\n",
            "Preview:\n",
            "    usd_goal_real\n",
            "0       0.000009\n",
            "1       0.000180\n",
            "2       0.000270\n",
            "3       0.000030\n",
            "4       0.000117\n",
            "Minimum value: 0.0 \n",
            "Maximum value: 1.0\n"
          ]
        }
      ],
      "source": [
        "# select the usd_goal_real column\n",
        "original_data = pd.DataFrame(kickstarters_2017.usd_goal_real)\n",
        "\n",
        "# scale the goals from 0 to 1\n",
        "scaled_data = minmax_scaling(original_data, columns=['usd_goal_real'])\n",
        "\n",
        "print('Original data\\nPreview:\\n', original_data.head())\n",
        "print('Minimum value:', float(original_data.min()),\n",
        "      '\\nMaximum value:', float(original_data.max()))\n",
        "print('_'*30)\n",
        "\n",
        "print('\\nScaled data\\nPreview:\\n', scaled_data.head())\n",
        "print('Minimum value:', float(scaled_data.min()),\n",
        "      '\\nMaximum value:', float(scaled_data.max()))"
      ]
    },
    {
      "cell_type": "markdown",
      "id": "16a4d39f",
      "metadata": {
        "papermill": {
          "duration": 0.005956,
          "end_time": "2022-06-22T16:13:29.119068",
          "exception": false,
          "start_time": "2022-06-22T16:13:29.113112",
          "status": "completed"
        },
        "tags": [],
        "id": "16a4d39f"
      },
      "source": [
        "# 1) Practice scaling\n",
        "\n",
        "We just scaled the \"usd_goal_real\" column. What about the \"goal\" column?\n",
        "\n",
        "Begin by running the code cell below to create a DataFrame `original_goal_data` containing the \"goal\" column."
      ]
    },
    {
      "cell_type": "code",
      "execution_count": 5,
      "id": "4debbe6b",
      "metadata": {
        "execution": {
          "iopub.execute_input": "2022-06-22T16:13:29.132987Z",
          "iopub.status.busy": "2022-06-22T16:13:29.132575Z",
          "iopub.status.idle": "2022-06-22T16:13:29.138626Z",
          "shell.execute_reply": "2022-06-22T16:13:29.137480Z"
        },
        "papermill": {
          "duration": 0.015973,
          "end_time": "2022-06-22T16:13:29.141052",
          "exception": false,
          "start_time": "2022-06-22T16:13:29.125079",
          "status": "completed"
        },
        "tags": [],
        "id": "4debbe6b"
      },
      "outputs": [],
      "source": [
        "# select the usd_goal_real column\n",
        "original_goal_data = pd.DataFrame(kickstarters_2017.goal)"
      ]
    },
    {
      "cell_type": "markdown",
      "id": "3dbe87bf",
      "metadata": {
        "papermill": {
          "duration": 0.005737,
          "end_time": "2022-06-22T16:13:29.152759",
          "exception": false,
          "start_time": "2022-06-22T16:13:29.147022",
          "status": "completed"
        },
        "tags": [],
        "id": "3dbe87bf"
      },
      "source": [
        "Use `original_goal_data` to create a new DataFrame `scaled_goal_data` with values scaled between 0 and 1. You must use the `minmax_scaling()` function.\n",
        "\n",
        "Hint: Use the minimax_scaling() function."
      ]
    },
    {
      "cell_type": "code",
      "execution_count": 6,
      "id": "8bb7c179",
      "metadata": {
        "execution": {
          "iopub.execute_input": "2022-06-22T16:13:29.166641Z",
          "iopub.status.busy": "2022-06-22T16:13:29.166023Z",
          "iopub.status.idle": "2022-06-22T16:13:29.194731Z",
          "shell.execute_reply": "2022-06-22T16:13:29.193582Z"
        },
        "papermill": {
          "duration": 0.038274,
          "end_time": "2022-06-22T16:13:29.196997",
          "exception": false,
          "start_time": "2022-06-22T16:13:29.158723",
          "status": "completed"
        },
        "tags": [],
        "id": "8bb7c179"
      },
      "outputs": [],
      "source": [
        "# TODO: Your code here\n",
        "scaled_goal_data = minmax_scaling(original_goal_data, columns=['goal'])"
      ]
    },
    {
      "cell_type": "markdown",
      "id": "9e844cb2",
      "metadata": {
        "papermill": {
          "duration": 0.006386,
          "end_time": "2022-06-22T16:13:29.241221",
          "exception": false,
          "start_time": "2022-06-22T16:13:29.234835",
          "status": "completed"
        },
        "tags": [],
        "id": "9e844cb2"
      },
      "source": [
        "# 2) Practice normalization\n",
        "\n",
        "Now you'll practice normalization. We begin by normalizing the amount of money pledged to each campaign."
      ]
    },
    {
      "cell_type": "code",
      "execution_count": 8,
      "id": "457d209b",
      "metadata": {
        "execution": {
          "iopub.execute_input": "2022-06-22T16:13:29.256728Z",
          "iopub.status.busy": "2022-06-22T16:13:29.255847Z",
          "iopub.status.idle": "2022-06-22T16:13:29.489284Z",
          "shell.execute_reply": "2022-06-22T16:13:29.488013Z"
        },
        "papermill": {
          "duration": 0.24411,
          "end_time": "2022-06-22T16:13:29.491968",
          "exception": false,
          "start_time": "2022-06-22T16:13:29.247858",
          "status": "completed"
        },
        "tags": [],
        "colab": {
          "base_uri": "https://localhost:8080/"
        },
        "id": "457d209b",
        "outputId": "c6745c5f-9db0-4463-9d4b-73ca4bc286d0"
      },
      "outputs": [
        {
          "output_type": "stream",
          "name": "stdout",
          "text": [
            "Original data\n",
            "Preview:\n",
            " 1     2421.0\n",
            "2      220.0\n",
            "3        1.0\n",
            "4     1283.0\n",
            "5    52375.0\n",
            "Name: usd_pledged_real, dtype: float64\n",
            "Minimum value: 0.45 \n",
            "Maximum value: 20338986.27\n",
            "______________________________\n",
            "\n",
            "Normalized data\n",
            "Preview:\n",
            " 1    10.165142\n",
            "2     6.468598\n",
            "3     0.000000\n",
            "4     9.129277\n",
            "5    15.836853\n",
            "Name: usd_pledged_real, dtype: float64\n",
            "Minimum value: -0.7779954122762203 \n",
            "Maximum value: 30.69054020451361\n"
          ]
        }
      ],
      "source": [
        "# get the index of all positive pledges (Box-Cox only takes positive values)\n",
        "index_of_positive_pledges = kickstarters_2017.usd_pledged_real > 0\n",
        "\n",
        "# get only positive pledges (using their indexes)\n",
        "positive_pledges = kickstarters_2017.usd_pledged_real.loc[index_of_positive_pledges]\n",
        "\n",
        "# normalize the pledges (w/ Box-Cox)\n",
        "normalized_pledges = pd.Series(stats.boxcox(positive_pledges)[0], \n",
        "                               name='usd_pledged_real', index=positive_pledges.index)\n",
        "\n",
        "print('Original data\\nPreview:\\n', positive_pledges.head())\n",
        "print('Minimum value:', float(positive_pledges.min()),\n",
        "      '\\nMaximum value:', float(positive_pledges.max()))\n",
        "print('_'*30)\n",
        "\n",
        "print('\\nNormalized data\\nPreview:\\n', normalized_pledges.head())\n",
        "print('Minimum value:', float(normalized_pledges.min()),\n",
        "      '\\nMaximum value:', float(normalized_pledges.max()))"
      ]
    },
    {
      "cell_type": "markdown",
      "id": "b369916e",
      "metadata": {
        "papermill": {
          "duration": 0.006674,
          "end_time": "2022-06-22T16:13:29.505676",
          "exception": false,
          "start_time": "2022-06-22T16:13:29.499002",
          "status": "completed"
        },
        "tags": [],
        "id": "b369916e"
      },
      "source": [
        "The values have changed significantly with normalization!\n",
        "\n",
        "In the next code cell, you'll take a look at the distribution of the normalized data, where it should now resemble a normal distribution."
      ]
    },
    {
      "cell_type": "code",
      "execution_count": 9,
      "id": "654767fe",
      "metadata": {
        "execution": {
          "iopub.execute_input": "2022-06-22T16:13:29.521626Z",
          "iopub.status.busy": "2022-06-22T16:13:29.520736Z",
          "iopub.status.idle": "2022-06-22T16:13:31.624447Z",
          "shell.execute_reply": "2022-06-22T16:13:31.623304Z"
        },
        "papermill": {
          "duration": 2.114116,
          "end_time": "2022-06-22T16:13:31.626893",
          "exception": false,
          "start_time": "2022-06-22T16:13:29.512777",
          "status": "completed"
        },
        "tags": [],
        "colab": {
          "base_uri": "https://localhost:8080/",
          "height": 296
        },
        "id": "654767fe",
        "outputId": "28092dd6-45de-4866-f5ef-5a5f5f037972"
      },
      "outputs": [
        {
          "output_type": "display_data",
          "data": {
            "text/plain": [
              "<Figure size 432x288 with 1 Axes>"
            ],
            "image/png": "[encoded data removed]"
          },
          "metadata": {
            "needs_background": "light"
          }
        }
      ],
      "source": [
        "# plot normalized data\n",
        "ax = sns.histplot(normalized_pledges, kde=True)\n",
        "ax.set_title(\"Normalized data\")\n",
        "plt.show()"
      ]
    },
    {
      "cell_type": "markdown",
      "id": "b0df41bc",
      "metadata": {
        "papermill": {
          "duration": 0.007797,
          "end_time": "2022-06-22T16:13:31.642074",
          "exception": false,
          "start_time": "2022-06-22T16:13:31.634277",
          "status": "completed"
        },
        "tags": [],
        "id": "b0df41bc"
      },
      "source": [
        "We used the \"usd_pledged_real\" column. Follow the same process to normalize the \"pledged\" column. "
      ]
    },
    {
      "cell_type": "code",
      "execution_count": 10,
      "id": "50bbc658",
      "metadata": {
        "execution": {
          "iopub.execute_input": "2022-06-22T16:13:31.658779Z",
          "iopub.status.busy": "2022-06-22T16:13:31.658387Z",
          "iopub.status.idle": "2022-06-22T16:13:34.020474Z",
          "shell.execute_reply": "2022-06-22T16:13:34.018823Z"
        },
        "papermill": {
          "duration": 2.373255,
          "end_time": "2022-06-22T16:13:34.022888",
          "exception": false,
          "start_time": "2022-06-22T16:13:31.649633",
          "status": "completed"
        },
        "tags": [],
        "colab": {
          "base_uri": "https://localhost:8080/",
          "height": 697
        },
        "id": "50bbc658",
        "outputId": "5e28f55c-0c05-4e3d-ddaa-d209f173f6ba"
      },
      "outputs": [
        {
          "output_type": "stream",
          "name": "stdout",
          "text": [
            "Original data\n",
            "Preview:\n",
            " 1     2421.0\n",
            "2      220.0\n",
            "3        1.0\n",
            "4     1283.0\n",
            "5    52375.0\n",
            "Name: pledged, dtype: float64\n",
            "Minimum value: 1.0 \n",
            "Maximum value: 20338986.27\n",
            "______________________________\n",
            "\n",
            "Normalized data\n",
            "Preview:\n",
            " 1    10.013887\n",
            "2     6.403367\n",
            "3     0.000000\n",
            "4     9.005193\n",
            "5    15.499596\n",
            "Name: goal, dtype: float64\n",
            "Minimum value: 0.0 \n",
            "Maximum value: 29.63030787418848\n"
          ]
        },
        {
          "output_type": "display_data",
          "data": {
            "text/plain": [
              "<Figure size 432x288 with 1 Axes>"
            ],
            "image/png": "[encoded data removed]"
          },
          "metadata": {
            "needs_background": "light"
          }
        }
      ],
      "source": [
        "# TODO: Your code here!\n",
        "\n",
        "# get the index of all positive pledges (Box-Cox only takes positive values)\n",
        "index_of_positive_pledges = kickstarters_2017.pledged > 0\n",
        "\n",
        "# get only positive pledges (using their indexes)\n",
        "positive_pledges = kickstarters_2017.pledged.loc[index_of_positive_pledges]\n",
        "\n",
        "# normalize the pledges (w/ Box-Cox)\n",
        "normalized_pledges = pd.Series(stats.boxcox(positive_pledges)[0],\n",
        "                              name='goal', index=positive_pledges.index)\n",
        "print('Original data\\nPreview:\\n', positive_pledges.head())\n",
        "print('Minimum value:', float(positive_pledges.min()),\n",
        "      '\\nMaximum value:', float(positive_pledges.max()))\n",
        "print('_'*30)\n",
        "\n",
        "print('\\nNormalized data\\nPreview:\\n', normalized_pledges.head())\n",
        "print('Minimum value:', float(normalized_pledges.min()),\n",
        "      '\\nMaximum value:', float(normalized_pledges.max()))\n",
        "\n",
        "# plot normalized data\n",
        "ax = sns.histplot(normalized_pledges, kde=True)\n",
        "ax.set_title(\"Normalized data\")\n",
        "plt.show()"
      ]
    },
    {
      "cell_type": "markdown",
      "id": "f79746a5",
      "metadata": {
        "papermill": {
          "duration": 0.007485,
          "end_time": "2022-06-22T16:13:34.038215",
          "exception": false,
          "start_time": "2022-06-22T16:13:34.030730",
          "status": "completed"
        },
        "tags": [],
        "id": "f79746a5"
      },
      "source": [
        "How does the normalized \"usd_pledged_real\" column look different from when we normalized the \"pledged\" column?  Or, do they look mostly the same?\n",
        "\n",
        "Answer : The distributions in the normalized data look mostly the same."
      ]
    },
    {
      "cell_type": "markdown",
      "id": "cf56823c",
      "metadata": {
        "papermill": {
          "duration": 0.008139,
          "end_time": "2022-06-22T16:13:34.110175",
          "exception": false,
          "start_time": "2022-06-22T16:13:34.102036",
          "status": "completed"
        },
        "tags": [],
        "id": "cf56823c"
      },
      "source": [
        "# (Optional) More practice\n",
        "\n",
        "Try finding a new dataset and pretend you're preparing to perform a [regression analysis](https://www.kaggle.com/rtatman/the-5-day-regression-challenge). \n",
        "\n",
        "[These datasets are a good start!](https://www.kaggle.com/rtatman/datasets-for-regression-analysis)\n",
        "\n",
        "Pick three or four variables and decide if you need to normalize or scale any of them and, if you think you should, practice applying the correct technique.\n",
        "\n",
        "# Keep going\n",
        "\n",
        "In the next lesson, learn how to [**parse dates**](https://www.kaggle.com/alexisbcook/parsing-dates) in a dataset."
      ]
    },
    {
      "cell_type": "markdown",
      "id": "66245c8d",
      "metadata": {
        "papermill": {
          "duration": 0.008216,
          "end_time": "2022-06-22T16:13:34.126781",
          "exception": false,
          "start_time": "2022-06-22T16:13:34.118565",
          "status": "completed"
        },
        "tags": [],
        "id": "66245c8d"
      },
      "source": [
        "---\n",
        "\n",
        "\n",
        "\n",
        "\n",
        "*Have questions or comments? Visit the [course discussion forum](https://www.kaggle.com/learn/data-cleaning/discussion) to chat with other learners.*"
      ]
    }
  ],
  "metadata": {
    "kernelspec": {
      "display_name": "Python 3",
      "language": "python",
      "name": "python3"
    },
    "language_info": {
      "codemirror_mode": {
        "name": "ipython",
        "version": 3
      },
      "file_extension": ".py",
      "mimetype": "text/x-python",
      "name": "python",
      "nbconvert_exporter": "python",
      "pygments_lexer": "ipython3",
      "version": "3.7.12"
    },
    "papermill": {
      "default_parameters": {},
      "duration": 21.827998,
      "end_time": "2022-06-22T16:13:34.956092",
      "environment_variables": {},
      "exception": null,
      "input_path": "__notebook__.ipynb",
      "output_path": "__notebook__.ipynb",
      "parameters": {},
      "start_time": "2022-06-22T16:13:13.128094",
      "version": "2.3.4"
    },
    "colab": {
      "name": "exercise-scaling-and-normalization.ipynb",
      "provenance": [],
      "collapsed_sections": []
    }
  },
  "nbformat": 4,
  "nbformat_minor": 5
}