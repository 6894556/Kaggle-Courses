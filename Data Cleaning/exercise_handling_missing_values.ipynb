{
  "metadata": {
    "kernelspec": {
      "language": "python",
      "display_name": "Python 3",
      "name": "python3"
    },
    "language_info": {
      "pygments_lexer": "ipython3",
      "nbconvert_exporter": "python",
      "version": "3.6.4",
      "file_extension": ".py",
      "codemirror_mode": {
        "name": "ipython",
        "version": 3
      },
      "name": "python",
      "mimetype": "text/x-python"
    },
    "colab": {
      "name": "exercise-handling-missing-values.ipynb",
      "provenance": [],
      "collapsed_sections": []
    }
  },
  "nbformat_minor": 0,
  "nbformat": 4,
  "cells": [
    {
      "cell_type": "markdown",
      "source": [
        "**This notebook is an exercise in the [Data Cleaning](https://www.kaggle.com/learn/data-cleaning) course.  You can reference the tutorial at [this link](https://www.kaggle.com/alexisbcook/handling-missing-values).**\n",
        "\n",
        "---\n"
      ],
      "metadata": {
        "id": "jKJPZ2qYK94p"
      }
    },
    {
      "cell_type": "markdown",
      "source": [
        "In this exercise, you'll apply what you learned in the **Handling missing values** tutorial."
      ],
      "metadata": {
        "id": "JOBT4RD5K94z"
      }
    },
    {
      "cell_type": "code",
      "source": [
        "from google.colab import drive\n",
        "drive.mount('/content/mydrive')"
      ],
      "metadata": {
        "colab": {
          "base_uri": "https://localhost:8080/"
        },
        "id": "Y36Q-Oj-K3fL",
        "outputId": "e8c1a1a4-c379-44d1-fd64-8944d66d9984"
      },
      "execution_count": 1,
      "outputs": [
        {
          "output_type": "stream",
          "name": "stdout",
          "text": [
            "Drive already mounted at /content/mydrive; to attempt to forcibly remount, call drive.mount(\"/content/mydrive\", force_remount=True).\n"
          ]
        }
      ]
    },
    {
      "cell_type": "markdown",
      "source": [
        "# 1) Take a first look at the data"
      ],
      "metadata": {
        "id": "h_-90eV1K946"
      }
    },
    {
      "cell_type": "code",
      "source": [
        "# modules we'll use\n",
        "import pandas as pd\n",
        "import numpy as np\n",
        "\n",
        "# read in all our data\n",
        "sf_permits = pd.read_csv(\"/content/mydrive/MyDrive/Colab Notebooks/data/Building_Permits.csv\")\n",
        "\n",
        "# set seed for reproducibility\n",
        "np.random.seed(0) "
      ],
      "metadata": {
        "execution": {
          "iopub.status.busy": "2022-06-21T11:53:07.573275Z",
          "iopub.execute_input": "2022-06-21T11:53:07.574085Z",
          "iopub.status.idle": "2022-06-21T11:53:09.300751Z",
          "shell.execute_reply.started": "2022-06-21T11:53:07.574038Z",
          "shell.execute_reply": "2022-06-21T11:53:09.299963Z"
        },
        "trusted": true,
        "id": "LXFqlvtNK947",
        "colab": {
          "base_uri": "https://localhost:8080/"
        },
        "outputId": "22a3e50d-0b7a-4d38-9825-35bcfe1dda96"
      },
      "execution_count": 2,
      "outputs": [
        {
          "output_type": "stream",
          "name": "stderr",
          "text": [
            "/usr/local/lib/python3.7/dist-packages/IPython/core/interactiveshell.py:2882: DtypeWarning: Columns (22,32) have mixed types.Specify dtype option on import or set low_memory=False.\n",
            "  exec(code_obj, self.user_global_ns, self.user_ns)\n"
          ]
        }
      ]
    },
    {
      "cell_type": "markdown",
      "source": [
        "Use the code cell below to print the first five rows of the `sf_permits` DataFrame."
      ],
      "metadata": {
        "id": "Xm3aBnYCK949"
      }
    },
    {
      "cell_type": "code",
      "source": [
        "# TODO: Your code here!\n",
        "sf_permits.head()"
      ],
      "metadata": {
        "execution": {
          "iopub.status.busy": "2022-06-21T11:53:09.301747Z",
          "iopub.execute_input": "2022-06-21T11:53:09.302546Z",
          "iopub.status.idle": "2022-06-21T11:53:09.337854Z",
          "shell.execute_reply.started": "2022-06-21T11:53:09.302511Z",
          "shell.execute_reply": "2022-06-21T11:53:09.337114Z"
        },
        "trusted": true,
        "id": "77UUF5awK94-",
        "colab": {
          "base_uri": "https://localhost:8080/",
          "height": 473
        },
        "outputId": "6ae17ba7-9855-4ecb-f6d7-2220a9386380"
      },
      "execution_count": 3,
      "outputs": [
        {
          "output_type": "execute_result",
          "data": {
            "text/plain": [
              "  Permit Number  Permit Type            Permit Type Definition  \\\n",
              "0  201505065519            4                      sign - erect   \n",
              "1  201604195146            4                      sign - erect   \n",
              "2  201605278609            3  additions alterations or repairs   \n",
              "3  201611072166            8            otc alterations permit   \n",
              "4  201611283529            6                       demolitions   \n",
              "\n",
              "  Permit Creation Date Block  Lot  Street Number Street Number Suffix  \\\n",
              "0           05/06/2015  0326  023            140                  NaN   \n",
              "1           04/19/2016  0306  007            440                  NaN   \n",
              "2           05/27/2016  0595  203           1647                  NaN   \n",
              "3           11/07/2016  0156  011           1230                  NaN   \n",
              "4           11/28/2016  0342  001            950                  NaN   \n",
              "\n",
              "  Street Name Street Suffix  ...  Existing Construction Type  \\\n",
              "0       Ellis            St  ...                         3.0   \n",
              "1       Geary            St  ...                         3.0   \n",
              "2     Pacific            Av  ...                         1.0   \n",
              "3     Pacific            Av  ...                         5.0   \n",
              "4      Market            St  ...                         3.0   \n",
              "\n",
              "  Existing Construction Type Description Proposed Construction Type  \\\n",
              "0                          constr type 3                        NaN   \n",
              "1                          constr type 3                        NaN   \n",
              "2                          constr type 1                        1.0   \n",
              "3                         wood frame (5)                        5.0   \n",
              "4                          constr type 3                        NaN   \n",
              "\n",
              "  Proposed Construction Type Description Site Permit Supervisor District  \\\n",
              "0                                    NaN         NaN                 3.0   \n",
              "1                                    NaN         NaN                 3.0   \n",
              "2                          constr type 1         NaN                 3.0   \n",
              "3                         wood frame (5)         NaN                 3.0   \n",
              "4                                    NaN         NaN                 6.0   \n",
              "\n",
              "  Neighborhoods - Analysis Boundaries  Zipcode  \\\n",
              "0                          Tenderloin  94102.0   \n",
              "1                          Tenderloin  94102.0   \n",
              "2                        Russian Hill  94109.0   \n",
              "3                            Nob Hill  94109.0   \n",
              "4                          Tenderloin  94102.0   \n",
              "\n",
              "                                    Location      Record ID  \n",
              "0  (37.785719256680785, -122.40852313194863)  1380611233945  \n",
              "1   (37.78733980600732, -122.41063199757738)  1420164406718  \n",
              "2    (37.7946573324287, -122.42232562979227)  1424856504716  \n",
              "3   (37.79595867909168, -122.41557405519474)  1443574295566  \n",
              "4   (37.78315261897309, -122.40950883997789)   144548169992  \n",
              "\n",
              "[5 rows x 43 columns]"
            ],
            "text/html": [
              "\n",
              "  <div id=\"df-73dc312e-4433-4036-88b2-0398336957bc\">\n",
              "    <div class=\"colab-df-container\">\n",
              "      <div>\n",
              "<style scoped>\n",
              "    .dataframe tbody tr th:only-of-type {\n",
              "        vertical-align: middle;\n",
              "    }\n",
              "\n",
              "    .dataframe tbody tr th {\n",
              "        vertical-align: top;\n",
              "    }\n",
              "\n",
              "    .dataframe thead th {\n",
              "        text-align: right;\n",
              "    }\n",
              "</style>\n",
              "<table border=\"1\" class=\"dataframe\">\n",
              "  <thead>\n",
              "    <tr style=\"text-align: right;\">\n",
              "      <th></th>\n",
              "      <th>Permit Number</th>\n",
              "      <th>Permit Type</th>\n",
              "      <th>Permit Type Definition</th>\n",
              "      <th>Permit Creation Date</th>\n",
              "      <th>Block</th>\n",
              "      <th>Lot</th>\n",
              "      <th>Street Number</th>\n",
              "      <th>Street Number Suffix</th>\n",
              "      <th>Street Name</th>\n",
              "      <th>Street Suffix</th>\n",
              "      <th>...</th>\n",
              "      <th>Existing Construction Type</th>\n",
              "      <th>Existing Construction Type Description</th>\n",
              "      <th>Proposed Construction Type</th>\n",
              "      <th>Proposed Construction Type Description</th>\n",
              "      <th>Site Permit</th>\n",
              "      <th>Supervisor District</th>\n",
              "      <th>Neighborhoods - Analysis Boundaries</th>\n",
              "      <th>Zipcode</th>\n",
              "      <th>Location</th>\n",
              "      <th>Record ID</th>\n",
              "    </tr>\n",
              "  </thead>\n",
              "  <tbody>\n",
              "    <tr>\n",
              "      <th>0</th>\n",
              "      <td>201505065519</td>\n",
              "      <td>4</td>\n",
              "      <td>sign - erect</td>\n",
              "      <td>05/06/2015</td>\n",
              "      <td>0326</td>\n",
              "      <td>023</td>\n",
              "      <td>140</td>\n",
              "      <td>NaN</td>\n",
              "      <td>Ellis</td>\n",
              "      <td>St</td>\n",
              "      <td>...</td>\n",
              "      <td>3.0</td>\n",
              "      <td>constr type 3</td>\n",
              "      <td>NaN</td>\n",
              "      <td>NaN</td>\n",
              "      <td>NaN</td>\n",
              "      <td>3.0</td>\n",
              "      <td>Tenderloin</td>\n",
              "      <td>94102.0</td>\n",
              "      <td>(37.785719256680785, -122.40852313194863)</td>\n",
              "      <td>1380611233945</td>\n",
              "    </tr>\n",
              "    <tr>\n",
              "      <th>1</th>\n",
              "      <td>201604195146</td>\n",
              "      <td>4</td>\n",
              "      <td>sign - erect</td>\n",
              "      <td>04/19/2016</td>\n",
              "      <td>0306</td>\n",
              "      <td>007</td>\n",
              "      <td>440</td>\n",
              "      <td>NaN</td>\n",
              "      <td>Geary</td>\n",
              "      <td>St</td>\n",
              "      <td>...</td>\n",
              "      <td>3.0</td>\n",
              "      <td>constr type 3</td>\n",
              "      <td>NaN</td>\n",
              "      <td>NaN</td>\n",
              "      <td>NaN</td>\n",
              "      <td>3.0</td>\n",
              "      <td>Tenderloin</td>\n",
              "      <td>94102.0</td>\n",
              "      <td>(37.78733980600732, -122.41063199757738)</td>\n",
              "      <td>1420164406718</td>\n",
              "    </tr>\n",
              "    <tr>\n",
              "      <th>2</th>\n",
              "      <td>201605278609</td>\n",
              "      <td>3</td>\n",
              "      <td>additions alterations or repairs</td>\n",
              "      <td>05/27/2016</td>\n",
              "      <td>0595</td>\n",
              "      <td>203</td>\n",
              "      <td>1647</td>\n",
              "      <td>NaN</td>\n",
              "      <td>Pacific</td>\n",
              "      <td>Av</td>\n",
              "      <td>...</td>\n",
              "      <td>1.0</td>\n",
              "      <td>constr type 1</td>\n",
              "      <td>1.0</td>\n",
              "      <td>constr type 1</td>\n",
              "      <td>NaN</td>\n",
              "      <td>3.0</td>\n",
              "      <td>Russian Hill</td>\n",
              "      <td>94109.0</td>\n",
              "      <td>(37.7946573324287, -122.42232562979227)</td>\n",
              "      <td>1424856504716</td>\n",
              "    </tr>\n",
              "    <tr>\n",
              "      <th>3</th>\n",
              "      <td>201611072166</td>\n",
              "      <td>8</td>\n",
              "      <td>otc alterations permit</td>\n",
              "      <td>11/07/2016</td>\n",
              "      <td>0156</td>\n",
              "      <td>011</td>\n",
              "      <td>1230</td>\n",
              "      <td>NaN</td>\n",
              "      <td>Pacific</td>\n",
              "      <td>Av</td>\n",
              "      <td>...</td>\n",
              "      <td>5.0</td>\n",
              "      <td>wood frame (5)</td>\n",
              "      <td>5.0</td>\n",
              "      <td>wood frame (5)</td>\n",
              "      <td>NaN</td>\n",
              "      <td>3.0</td>\n",
              "      <td>Nob Hill</td>\n",
              "      <td>94109.0</td>\n",
              "      <td>(37.79595867909168, -122.41557405519474)</td>\n",
              "      <td>1443574295566</td>\n",
              "    </tr>\n",
              "    <tr>\n",
              "      <th>4</th>\n",
              "      <td>201611283529</td>\n",
              "      <td>6</td>\n",
              "      <td>demolitions</td>\n",
              "      <td>11/28/2016</td>\n",
              "      <td>0342</td>\n",
              "      <td>001</td>\n",
              "      <td>950</td>\n",
              "      <td>NaN</td>\n",
              "      <td>Market</td>\n",
              "      <td>St</td>\n",
              "      <td>...</td>\n",
              "      <td>3.0</td>\n",
              "      <td>constr type 3</td>\n",
              "      <td>NaN</td>\n",
              "      <td>NaN</td>\n",
              "      <td>NaN</td>\n",
              "      <td>6.0</td>\n",
              "      <td>Tenderloin</td>\n",
              "      <td>94102.0</td>\n",
              "      <td>(37.78315261897309, -122.40950883997789)</td>\n",
              "      <td>144548169992</td>\n",
              "    </tr>\n",
              "  </tbody>\n",
              "</table>\n",
              "<p>5 rows × 43 columns</p>\n",
              "</div>\n",
              "      <button class=\"colab-df-convert\" onclick=\"convertToInteractive('df-73dc312e-4433-4036-88b2-0398336957bc')\"\n",
              "              title=\"Convert this dataframe to an interactive table.\"\n",
              "              style=\"display:none;\">\n",
              "        \n",
              "  <svg xmlns=\"http://www.w3.org/2000/svg\" height=\"24px\"viewBox=\"0 0 24 24\"\n",
              "       width=\"24px\">\n",
              "    <path d=\"M0 0h24v24H0V0z\" fill=\"none\"/>\n",
              "    <path d=\"M18.56 5.44l.94 2.06.94-2.06 2.06-.94-2.06-.94-.94-2.06-.94 2.06-2.06.94zm-11 1L8.5 8.5l.94-2.06 2.06-.94-2.06-.94L8.5 2.5l-.94 2.06-2.06.94zm10 10l.94 2.06.94-2.06 2.06-.94-2.06-.94-.94-2.06-.94 2.06-2.06.94z\"/><path d=\"M17.41 7.96l-1.37-1.37c-.4-.4-.92-.59-1.43-.59-.52 0-1.04.2-1.43.59L10.3 9.45l-7.72 7.72c-.78.78-.78 2.05 0 2.83L4 21.41c.39.39.9.59 1.41.59.51 0 1.02-.2 1.41-.59l7.78-7.78 2.81-2.81c.8-.78.8-2.07 0-2.86zM5.41 20L4 18.59l7.72-7.72 1.47 1.35L5.41 20z\"/>\n",
              "  </svg>\n",
              "      </button>\n",
              "      \n",
              "  <style>\n",
              "    .colab-df-container {\n",
              "      display:flex;\n",
              "      flex-wrap:wrap;\n",
              "      gap: 12px;\n",
              "    }\n",
              "\n",
              "    .colab-df-convert {\n",
              "      background-color: #E8F0FE;\n",
              "      border: none;\n",
              "      border-radius: 50%;\n",
              "      cursor: pointer;\n",
              "      display: none;\n",
              "      fill: #1967D2;\n",
              "      height: 32px;\n",
              "      padding: 0 0 0 0;\n",
              "      width: 32px;\n",
              "    }\n",
              "\n",
              "    .colab-df-convert:hover {\n",
              "      background-color: #E2EBFA;\n",
              "      box-shadow: 0px 1px 2px rgba(60, 64, 67, 0.3), 0px 1px 3px 1px rgba(60, 64, 67, 0.15);\n",
              "      fill: #174EA6;\n",
              "    }\n",
              "\n",
              "    [theme=dark] .colab-df-convert {\n",
              "      background-color: #3B4455;\n",
              "      fill: #D2E3FC;\n",
              "    }\n",
              "\n",
              "    [theme=dark] .colab-df-convert:hover {\n",
              "      background-color: #434B5C;\n",
              "      box-shadow: 0px 1px 3px 1px rgba(0, 0, 0, 0.15);\n",
              "      filter: drop-shadow(0px 1px 2px rgba(0, 0, 0, 0.3));\n",
              "      fill: #FFFFFF;\n",
              "    }\n",
              "  </style>\n",
              "\n",
              "      <script>\n",
              "        const buttonEl =\n",
              "          document.querySelector('#df-73dc312e-4433-4036-88b2-0398336957bc button.colab-df-convert');\n",
              "        buttonEl.style.display =\n",
              "          google.colab.kernel.accessAllowed ? 'block' : 'none';\n",
              "\n",
              "        async function convertToInteractive(key) {\n",
              "          const element = document.querySelector('#df-73dc312e-4433-4036-88b2-0398336957bc');\n",
              "          const dataTable =\n",
              "            await google.colab.kernel.invokeFunction('convertToInteractive',\n",
              "                                                     [key], {});\n",
              "          if (!dataTable) return;\n",
              "\n",
              "          const docLinkHtml = 'Like what you see? Visit the ' +\n",
              "            '<a target=\"_blank\" href=https://colab.research.google.com/notebooks/data_table.ipynb>data table notebook</a>'\n",
              "            + ' to learn more about interactive tables.';\n",
              "          element.innerHTML = '';\n",
              "          dataTable['output_type'] = 'display_data';\n",
              "          await google.colab.output.renderOutput(dataTable, element);\n",
              "          const docLink = document.createElement('div');\n",
              "          docLink.innerHTML = docLinkHtml;\n",
              "          element.appendChild(docLink);\n",
              "        }\n",
              "      </script>\n",
              "    </div>\n",
              "  </div>\n",
              "  "
            ]
          },
          "metadata": {},
          "execution_count": 3
        }
      ]
    },
    {
      "cell_type": "markdown",
      "source": [
        "Does the dataset have any missing values? The first five rows of the data does show that several columns have missing values. You can see this in the \"Street Number Suffix\", \"Proposed Construction Type\" and \"Site Permit\" columns, among others"
      ],
      "metadata": {
        "id": "gkOin7ONK95A"
      }
    },
    {
      "cell_type": "markdown",
      "source": [
        "# 2) How many missing data points do we have?\n",
        "\n",
        "What percentage of the values in the dataset are missing?  Your answer should be a number between 0 and 100.  (If 1/4 of the values in the dataset are missing, the answer is 25. You can begin by getting the number of missing entries in each column with missing_values_count = sf_permits.isnull().sum()."
      ],
      "metadata": {
        "id": "sJn4JK3oK95G"
      }
    },
    {
      "cell_type": "code",
      "source": [
        "# get the number of missing data points per column\n",
        "missing_values_count = sf_permits.isnull().sum()\n",
        "\n",
        "# look at the # of missing points in the first ten columns\n",
        "missing_values_count[:10]"
      ],
      "metadata": {
        "colab": {
          "base_uri": "https://localhost:8080/"
        },
        "id": "VAZBdJFaL_hD",
        "outputId": "19a991ab-e9cc-46a8-dc39-63c427d807ca"
      },
      "execution_count": 4,
      "outputs": [
        {
          "output_type": "execute_result",
          "data": {
            "text/plain": [
              "Permit Number                  0\n",
              "Permit Type                    0\n",
              "Permit Type Definition         0\n",
              "Permit Creation Date           0\n",
              "Block                          0\n",
              "Lot                            0\n",
              "Street Number                  0\n",
              "Street Number Suffix      196684\n",
              "Street Name                    0\n",
              "Street Suffix               2768\n",
              "dtype: int64"
            ]
          },
          "metadata": {},
          "execution_count": 4
        }
      ]
    },
    {
      "cell_type": "markdown",
      "source": [
        "That seems like a lot! It might be helpful to see what percentage of the values in our dataset were missing to give us a better sense of the scale of this problem"
      ],
      "metadata": {
        "id": "22d1rdFFMaqr"
      }
    },
    {
      "cell_type": "code",
      "source": [
        "# TODO: Your code here!\n",
        "\n",
        "# how many total missing values do we have?\n",
        "total_cells = np.product(sf_permits.shape)\n",
        "total_missing = missing_values_count.sum()\n",
        "\n",
        "# percent of data that is missing\n",
        "percent_missing = (total_missing / total_cells) * 100\n",
        "\n",
        "print(percent_missing)\n",
        "# Check your answer\n",
        "# q2.check()"
      ],
      "metadata": {
        "execution": {
          "iopub.status.busy": "2022-06-21T11:53:09.367544Z",
          "iopub.execute_input": "2022-06-21T11:53:09.368007Z",
          "iopub.status.idle": "2022-06-21T11:53:09.873086Z",
          "shell.execute_reply.started": "2022-06-21T11:53:09.367976Z",
          "shell.execute_reply": "2022-06-21T11:53:09.872148Z"
        },
        "trusted": true,
        "id": "6txwi4EoK95K",
        "colab": {
          "base_uri": "https://localhost:8080/"
        },
        "outputId": "c562fc22-7f9e-49df-b4a3-e68ba43cbfb5"
      },
      "execution_count": 5,
      "outputs": [
        {
          "output_type": "stream",
          "name": "stdout",
          "text": [
            "26.26002315058403\n"
          ]
        }
      ]
    },
    {
      "cell_type": "markdown",
      "source": [
        "Wow, almost a quarter of the cells in this dataset are empty! In the next step, we're going to take a closer look at some of the columns with missing values and try to figure out what might be going on with them."
      ],
      "metadata": {
        "id": "ZG7ny-3LM4hq"
      }
    },
    {
      "cell_type": "markdown",
      "source": [
        "# 3) Figure out why the data is missing\n",
        "\n",
        "Look at the columns **\"Street Number Suffix\"** and **\"Zipcode\"** from the [San Francisco Building Permits dataset](https://www.kaggle.com/aparnashastry/building-permit-applications-data). Both of these contain missing values. \n",
        "- Which, if either, are missing because they don't exist? \n",
        "- Which, if either, are missing because they weren't recorded?\n",
        "\n",
        "Hint: Do all addresses generally have a street number suffix? Do all addresses generally have a zipcode?"
      ],
      "metadata": {
        "id": "fV4by4l1K95N"
      }
    },
    {
      "cell_type": "markdown",
      "source": [
        "Answer : If a value in the \"Street Number Suffix\" column is missing, it is likely because it does not exist. If a value in the \"Zipcode\" column is missing, it was not recorded."
      ],
      "metadata": {
        "id": "NLS5nS9TNnCw"
      }
    },
    {
      "cell_type": "markdown",
      "source": [
        "# 4) Drop missing values: rows\n",
        "\n",
        "If you removed all of the rows of `sf_permits` with missing values, how many rows are left?\n",
        "\n",
        "**Note**: Do not change the value of `sf_permits` when checking this.\n",
        "\n",
        "\n",
        "Hint: Use sf_permits.dropna() to drop all missing rows."
      ],
      "metadata": {
        "id": "y6luUUZEK95S"
      }
    },
    {
      "cell_type": "code",
      "source": [
        "# TODO: Your code here!\n",
        "sf_permits.dropna()"
      ],
      "metadata": {
        "execution": {
          "iopub.status.busy": "2022-06-21T11:53:09.914671Z",
          "iopub.execute_input": "2022-06-21T11:53:09.91537Z",
          "iopub.status.idle": "2022-06-21T11:53:10.429785Z",
          "shell.execute_reply.started": "2022-06-21T11:53:09.915325Z",
          "shell.execute_reply": "2022-06-21T11:53:10.428835Z"
        },
        "trusted": true,
        "id": "37-pjaxBK95T",
        "colab": {
          "base_uri": "https://localhost:8080/",
          "height": 175
        },
        "outputId": "8f9d1776-3aa1-4847-c632-b262628095ed"
      },
      "execution_count": 6,
      "outputs": [
        {
          "output_type": "execute_result",
          "data": {
            "text/plain": [
              "Empty DataFrame\n",
              "Columns: [Permit Number, Permit Type, Permit Type Definition, Permit Creation Date, Block, Lot, Street Number, Street Number Suffix, Street Name, Street Suffix, Unit, Unit Suffix, Description, Current Status, Current Status Date, Filed Date, Issued Date, Completed Date, First Construction Document Date, Structural Notification, Number of Existing Stories, Number of Proposed Stories, Voluntary Soft-Story Retrofit, Fire Only Permit, Permit Expiration Date, Estimated Cost, Revised Cost, Existing Use, Existing Units, Proposed Use, Proposed Units, Plansets, TIDF Compliance, Existing Construction Type, Existing Construction Type Description, Proposed Construction Type, Proposed Construction Type Description, Site Permit, Supervisor District, Neighborhoods - Analysis Boundaries, Zipcode, Location, Record ID]\n",
              "Index: []\n",
              "\n",
              "[0 rows x 43 columns]"
            ],
            "text/html": [
              "\n",
              "  <div id=\"df-229c0579-4cb8-416c-bf86-9e6c8a7d5aa1\">\n",
              "    <div class=\"colab-df-container\">\n",
              "      <div>\n",
              "<style scoped>\n",
              "    .dataframe tbody tr th:only-of-type {\n",
              "        vertical-align: middle;\n",
              "    }\n",
              "\n",
              "    .dataframe tbody tr th {\n",
              "        vertical-align: top;\n",
              "    }\n",
              "\n",
              "    .dataframe thead th {\n",
              "        text-align: right;\n",
              "    }\n",
              "</style>\n",
              "<table border=\"1\" class=\"dataframe\">\n",
              "  <thead>\n",
              "    <tr style=\"text-align: right;\">\n",
              "      <th></th>\n",
              "      <th>Permit Number</th>\n",
              "      <th>Permit Type</th>\n",
              "      <th>Permit Type Definition</th>\n",
              "      <th>Permit Creation Date</th>\n",
              "      <th>Block</th>\n",
              "      <th>Lot</th>\n",
              "      <th>Street Number</th>\n",
              "      <th>Street Number Suffix</th>\n",
              "      <th>Street Name</th>\n",
              "      <th>Street Suffix</th>\n",
              "      <th>...</th>\n",
              "      <th>Existing Construction Type</th>\n",
              "      <th>Existing Construction Type Description</th>\n",
              "      <th>Proposed Construction Type</th>\n",
              "      <th>Proposed Construction Type Description</th>\n",
              "      <th>Site Permit</th>\n",
              "      <th>Supervisor District</th>\n",
              "      <th>Neighborhoods - Analysis Boundaries</th>\n",
              "      <th>Zipcode</th>\n",
              "      <th>Location</th>\n",
              "      <th>Record ID</th>\n",
              "    </tr>\n",
              "  </thead>\n",
              "  <tbody>\n",
              "  </tbody>\n",
              "</table>\n",
              "<p>0 rows × 43 columns</p>\n",
              "</div>\n",
              "      <button class=\"colab-df-convert\" onclick=\"convertToInteractive('df-229c0579-4cb8-416c-bf86-9e6c8a7d5aa1')\"\n",
              "              title=\"Convert this dataframe to an interactive table.\"\n",
              "              style=\"display:none;\">\n",
              "        \n",
              "  <svg xmlns=\"http://www.w3.org/2000/svg\" height=\"24px\"viewBox=\"0 0 24 24\"\n",
              "       width=\"24px\">\n",
              "    <path d=\"M0 0h24v24H0V0z\" fill=\"none\"/>\n",
              "    <path d=\"M18.56 5.44l.94 2.06.94-2.06 2.06-.94-2.06-.94-.94-2.06-.94 2.06-2.06.94zm-11 1L8.5 8.5l.94-2.06 2.06-.94-2.06-.94L8.5 2.5l-.94 2.06-2.06.94zm10 10l.94 2.06.94-2.06 2.06-.94-2.06-.94-.94-2.06-.94 2.06-2.06.94z\"/><path d=\"M17.41 7.96l-1.37-1.37c-.4-.4-.92-.59-1.43-.59-.52 0-1.04.2-1.43.59L10.3 9.45l-7.72 7.72c-.78.78-.78 2.05 0 2.83L4 21.41c.39.39.9.59 1.41.59.51 0 1.02-.2 1.41-.59l7.78-7.78 2.81-2.81c.8-.78.8-2.07 0-2.86zM5.41 20L4 18.59l7.72-7.72 1.47 1.35L5.41 20z\"/>\n",
              "  </svg>\n",
              "      </button>\n",
              "      \n",
              "  <style>\n",
              "    .colab-df-container {\n",
              "      display:flex;\n",
              "      flex-wrap:wrap;\n",
              "      gap: 12px;\n",
              "    }\n",
              "\n",
              "    .colab-df-convert {\n",
              "      background-color: #E8F0FE;\n",
              "      border: none;\n",
              "      border-radius: 50%;\n",
              "      cursor: pointer;\n",
              "      display: none;\n",
              "      fill: #1967D2;\n",
              "      height: 32px;\n",
              "      padding: 0 0 0 0;\n",
              "      width: 32px;\n",
              "    }\n",
              "\n",
              "    .colab-df-convert:hover {\n",
              "      background-color: #E2EBFA;\n",
              "      box-shadow: 0px 1px 2px rgba(60, 64, 67, 0.3), 0px 1px 3px 1px rgba(60, 64, 67, 0.15);\n",
              "      fill: #174EA6;\n",
              "    }\n",
              "\n",
              "    [theme=dark] .colab-df-convert {\n",
              "      background-color: #3B4455;\n",
              "      fill: #D2E3FC;\n",
              "    }\n",
              "\n",
              "    [theme=dark] .colab-df-convert:hover {\n",
              "      background-color: #434B5C;\n",
              "      box-shadow: 0px 1px 3px 1px rgba(0, 0, 0, 0.15);\n",
              "      filter: drop-shadow(0px 1px 2px rgba(0, 0, 0, 0.3));\n",
              "      fill: #FFFFFF;\n",
              "    }\n",
              "  </style>\n",
              "\n",
              "      <script>\n",
              "        const buttonEl =\n",
              "          document.querySelector('#df-229c0579-4cb8-416c-bf86-9e6c8a7d5aa1 button.colab-df-convert');\n",
              "        buttonEl.style.display =\n",
              "          google.colab.kernel.accessAllowed ? 'block' : 'none';\n",
              "\n",
              "        async function convertToInteractive(key) {\n",
              "          const element = document.querySelector('#df-229c0579-4cb8-416c-bf86-9e6c8a7d5aa1');\n",
              "          const dataTable =\n",
              "            await google.colab.kernel.invokeFunction('convertToInteractive',\n",
              "                                                     [key], {});\n",
              "          if (!dataTable) return;\n",
              "\n",
              "          const docLinkHtml = 'Like what you see? Visit the ' +\n",
              "            '<a target=\"_blank\" href=https://colab.research.google.com/notebooks/data_table.ipynb>data table notebook</a>'\n",
              "            + ' to learn more about interactive tables.';\n",
              "          element.innerHTML = '';\n",
              "          dataTable['output_type'] = 'display_data';\n",
              "          await google.colab.output.renderOutput(dataTable, element);\n",
              "          const docLink = document.createElement('div');\n",
              "          docLink.innerHTML = docLinkHtml;\n",
              "          element.appendChild(docLink);\n",
              "        }\n",
              "      </script>\n",
              "    </div>\n",
              "  </div>\n",
              "  "
            ]
          },
          "metadata": {},
          "execution_count": 6
        }
      ]
    },
    {
      "cell_type": "markdown",
      "source": [
        "Answer : There are no rows remaining in the dataset!"
      ],
      "metadata": {
        "id": "_dP_qAyYK95U"
      }
    },
    {
      "cell_type": "markdown",
      "source": [
        "# 5) Drop missing values: columns\n",
        "\n",
        "Now try removing all the columns with empty values.  \n",
        "- Create a new DataFrame called `sf_permits_with_na_dropped` that has all of the columns with empty values removed.  \n",
        "- How many columns were removed from the original `sf_permits` DataFrame? Use this number to set the value of the `dropped_columns` variable below.\n",
        "\n",
        "Hint: You can begin by getting the dropping all columns with missing values with sf_permits.dropna(axis=1)."
      ],
      "metadata": {
        "id": "fUSPhrT8K95W"
      }
    },
    {
      "cell_type": "code",
      "source": [
        "# TODO: Your code here\n",
        "\n",
        "# remove all columns with at least one missing value\n",
        "sf_permits_with_na_dropped = sf_permits.dropna(axis=1)\n",
        "\n",
        "# calculate number of dropped columns \n",
        "cols_in_original_dataset = sf_permits.shape[1]\n",
        "cols_in_na_dropped = sf_permits_with_na_dropped.shape[1]\n",
        "dropped_columns = cols_in_original_dataset - cols_in_na_dropped\n",
        "\n",
        "print(dropped_columns)"
      ],
      "metadata": {
        "execution": {
          "iopub.status.busy": "2022-06-21T11:53:10.454239Z",
          "iopub.execute_input": "2022-06-21T11:53:10.454683Z",
          "iopub.status.idle": "2022-06-21T11:53:10.973141Z",
          "shell.execute_reply.started": "2022-06-21T11:53:10.454642Z",
          "shell.execute_reply": "2022-06-21T11:53:10.972204Z"
        },
        "trusted": true,
        "id": "svtNQu_CK95X",
        "colab": {
          "base_uri": "https://localhost:8080/"
        },
        "outputId": "a6fb0da6-d03b-438f-dd1f-02376c28a05b"
      },
      "execution_count": 7,
      "outputs": [
        {
          "output_type": "stream",
          "name": "stdout",
          "text": [
            "31\n"
          ]
        }
      ]
    },
    {
      "cell_type": "markdown",
      "source": [
        "# 6) Fill in missing values automatically\n",
        "\n",
        "Try replacing all the NaN's in the `sf_permits` data with the one that comes directly after it and then replacing any remaining NaN's with 0.  Set the result to a new DataFrame `sf_permits_with_na_imputed`.\n",
        "\n",
        "Hint: Use the .fillna() method twice."
      ],
      "metadata": {
        "id": "bkSLfgbaK95Y"
      }
    },
    {
      "cell_type": "code",
      "source": [
        "# TODO: Your code here\n",
        "sf_permits_with_na_imputed = sf_permits.fillna(method='bfill', axis=0).fillna(0)"
      ],
      "metadata": {
        "execution": {
          "iopub.status.busy": "2022-06-21T11:53:10.985938Z",
          "iopub.execute_input": "2022-06-21T11:53:10.986555Z",
          "iopub.status.idle": "2022-06-21T11:53:12.458052Z",
          "shell.execute_reply.started": "2022-06-21T11:53:10.986521Z",
          "shell.execute_reply": "2022-06-21T11:53:12.457108Z"
        },
        "trusted": true,
        "id": "161av_T3K95Y"
      },
      "execution_count": 8,
      "outputs": []
    },
    {
      "cell_type": "markdown",
      "source": [
        "# More practice\n",
        "\n",
        "If you're looking for more practice handling missing values:\n",
        "\n",
        "* Check out [this noteboook](https://www.kaggle.com/alexisbcook/missing-values) on handling missing values using scikit-learn's imputer. \n",
        "* Look back at the \"Zipcode\" column in the `sf_permits` dataset, which has some missing values. How would you go about figuring out what the actual zipcode of each address should be? (You might try using another dataset. You can search for datasets about San Fransisco on the [Datasets listing](https://www.kaggle.com/datasets).) \n",
        "\n",
        "# Keep going\n",
        "\n",
        "In the next lesson, learn how to [**apply scaling and normalization**](https://www.kaggle.com/alexisbcook/scaling-and-normalization) to transform your data."
      ],
      "metadata": {
        "id": "3bf0pebMK95a"
      }
    },
    {
      "cell_type": "markdown",
      "source": [
        "---\n",
        "\n",
        "\n",
        "\n",
        "\n",
        "*Have questions or comments? Visit the [course discussion forum](https://www.kaggle.com/learn/data-cleaning/discussion) to chat with other learners.*"
      ],
      "metadata": {
        "id": "WRu2w5Z7K95a"
      }
    }
  ]
}